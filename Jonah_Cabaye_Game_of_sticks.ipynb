{
  "nbformat": 4,
  "nbformat_minor": 0,
  "metadata": {
    "colab": {
      "provenance": [],
      "include_colab_link": true
    },
    "kernelspec": {
      "name": "python3",
      "display_name": "Python 3"
    },
    "language_info": {
      "name": "python"
    }
  },
  "cells": [
    {
      "cell_type": "markdown",
      "metadata": {
        "id": "view-in-github",
        "colab_type": "text"
      },
      "source": [
        "<a href=\"https://colab.research.google.com/github/Jonahcabaye/Python_IMMIT/blob/main/Jonah_Cabaye_Game_of_sticks.ipynb\" target=\"_parent\"><img src=\"https://colab.research.google.com/assets/colab-badge.svg\" alt=\"Open In Colab\"/></a>"
      ]
    },
    {
      "cell_type": "markdown",
      "source": [
        "# **Game of sticks**\n",
        "\n",
        "**Objective :** Introduction to Python.\n",
        "\n",
        "**Competence to be acquired :** use the control instructions and data structures of Python to solve a computer problem.\n",
        "\n",
        "**Statement:**\n",
        "- In the game of sticks there is a heap of sticks on a board. On their turn, each player **(two players the computer and you)** picks up a number of sticks. The one who has to pick the final stick will be the loser.\n",
        "To do this, a number of maximum pick is designated by the player.\n",
        "\n",
        "- At the beginning of the game, you have to initialize:\n",
        "  1. The number of sticks between the two players (from 10 to 60).\n",
        "  2. The maximum number of sticks that can be picked.\n",
        "  3. Who starts (0 for the player and 1 for the computer).\n",
        "\n",
        "\n",
        "After each game the program displays the remaining sticks, for example:\n",
        "\n",
        "\n",
        "\n",
        "\n"
      ],
      "metadata": {
        "id": "Kza6LWBiemxI"
      }
    },
    {
      "cell_type": "code",
      "source": [
        "import random\n",
        "\n",
        "def initialize_game():\n",
        "    sticks = int(input(\"Enter the number of sticks (10-60): \"))\n",
        "    while sticks < 10 or sticks > 60:\n",
        "        sticks = int(input(\"Enter a number between 10 and 60: \"))\n",
        "\n",
        "    max_pick = int(input(\"Enter the maximum number of sticks to pick: \"))\n",
        "    player_turn = int(input(\"Who starts? (0 for player, 1 for computer): \"))\n",
        "\n",
        "    return sticks, max_pick, player_turn\n",
        "\n",
        "def player_pick(sticks, max_pick):\n",
        "    while True:\n",
        "        num = int(input(f\"Enter the number of sticks to pick (1-{max_pick}): \"))\n",
        "        if 1 <= num <= max_pick and num <= sticks:\n",
        "            return num\n",
        "        else:\n",
        "            print(f\"Invalid input. Please pick 1-{max_pick} sticks and no more than remaining sticks ({sticks}).\")\n",
        "\n",
        "def computer_pick(sticks, max_pick):\n",
        "    num = random.randint(1, max_pick)\n",
        "    if num > sticks:\n",
        "        num = sticks\n",
        "    return num\n",
        "\n",
        "def display_sticks(n):\n",
        "    print(\"o  \" * n)\n",
        "    print(\"|  \" * n)\n",
        "\n",
        "def main():\n",
        "    print(\"Welcome to the Game of Sticks!\")\n",
        "    while True:\n",
        "        sticks, max_pick, player_turn = initialize_game()\n",
        "\n",
        "        while sticks > 0:\n",
        "            display_sticks(sticks)  # Display remaining sticks\n",
        "            print(f\"Remaining sticks: {sticks}\")\n",
        "\n",
        "            if player_turn == 0:\n",
        "                num = player_pick(sticks, max_pick)\n",
        "            else:\n",
        "                num = computer_pick(sticks, max_pick)\n",
        "                print(f\"Computer picks {num} sticks.\")\n",
        "\n",
        "            sticks -= num\n",
        "            player_turn = 1 - player_turn\n",
        "\n",
        "        display_sticks(sticks)  # Display remaining sticks\n",
        "        print(f\"Remaining sticks: {sticks}\")\n",
        "\n",
        "        if player_turn == 0:\n",
        "            print(\"Congratulations! You win!\")\n",
        "        else:\n",
        "            print(\"Computer wins!\")\n",
        "\n",
        "        play_again = input(\"Play again? (yes/no): \")\n",
        "        if play_again.lower() != 'yes':\n",
        "            break\n",
        "\n",
        "if __name__ == \"__main__\":\n",
        "    main()"
      ],
      "metadata": {
        "colab": {
          "base_uri": "https://localhost:8080/"
        },
        "id": "xIRPBi1nv3Fd",
        "outputId": "9f114e3f-6110-470d-cfde-cac6c4f60303"
      },
      "execution_count": 3,
      "outputs": [
        {
          "name": "stdout",
          "output_type": "stream",
          "text": [
            "Welcome to the Game of Sticks!\n",
            "Enter the number of sticks (10-60): 15\n",
            "Enter the maximum number of sticks to pick: 3\n",
            "Who starts? (0 for player, 1 for computer): 0\n",
            "o  o  o  o  o  o  o  o  o  o  o  o  o  o  o  \n",
            "|  |  |  |  |  |  |  |  |  |  |  |  |  |  |  \n",
            "Remaining sticks: 15\n",
            "Enter the number of sticks to pick (1-3): 3\n",
            "o  o  o  o  o  o  o  o  o  o  o  o  \n",
            "|  |  |  |  |  |  |  |  |  |  |  |  \n",
            "Remaining sticks: 12\n",
            "Computer picks 2 sticks.\n",
            "o  o  o  o  o  o  o  o  o  o  \n",
            "|  |  |  |  |  |  |  |  |  |  \n",
            "Remaining sticks: 10\n",
            "Enter the number of sticks to pick (1-3): 2\n",
            "o  o  o  o  o  o  o  o  \n",
            "|  |  |  |  |  |  |  |  \n",
            "Remaining sticks: 8\n",
            "Computer picks 2 sticks.\n",
            "o  o  o  o  o  o  \n",
            "|  |  |  |  |  |  \n",
            "Remaining sticks: 6\n",
            "Enter the number of sticks to pick (1-3): 3\n",
            "o  o  o  \n",
            "|  |  |  \n",
            "Remaining sticks: 3\n",
            "Computer picks 2 sticks.\n",
            "o  \n",
            "|  \n",
            "Remaining sticks: 1\n",
            "Enter the number of sticks to pick (1-3): 2\n",
            "Invalid input. Please pick 1-3 sticks and no more than remaining sticks (1).\n",
            "Enter the number of sticks to pick (1-3): 1\n",
            "\n",
            "\n",
            "Remaining sticks: 0\n",
            "Computer wins!\n",
            "Play again? (yes/no): no\n"
          ]
        }
      ]
    },
    {
      "cell_type": "markdown",
      "source": [
        "# - Bonus:\n",
        "1. Use exception statement (try..... except).\n",
        "2. Run your code in the consol (consol mode in pyhton editor).\n",
        "3. Push your code to GitHub (you have to use git commands).\n",
        "\n"
      ],
      "metadata": {
        "id": "0ELx_3mQ5xt8"
      }
    },
    {
      "cell_type": "code",
      "source": [
        "import random\n",
        "\n",
        "def initialize_game():\n",
        "    while True:\n",
        "        try:\n",
        "            sticks = int(input(\"Enter the number of sticks (10-60): \"))\n",
        "            if 10 <= sticks <= 60:\n",
        "                break\n",
        "            else:\n",
        "                print(\"Please enter a number between 10 and 60.\")\n",
        "        except ValueError:\n",
        "            print(\"Invalid input. Please enter a valid number.\")\n",
        "\n",
        "    while True:\n",
        "        try:\n",
        "            max_pick = int(input(\"Enter the maximum number of sticks to pick: \"))\n",
        "            if max_pick >= 1:\n",
        "                break\n",
        "            else:\n",
        "                print(\"Please enter a positive number for the maximum sticks to pick.\")\n",
        "        except ValueError:\n",
        "            print(\"Invalid input. Please enter a valid number.\")\n",
        "\n",
        "    while True:\n",
        "        try:\n",
        "            player_turn = int(input(\"Who starts? (0 for player, 1 for computer): \"))\n",
        "            if player_turn == 0 or player_turn == 1:\n",
        "                break\n",
        "            else:\n",
        "                print(\"Please enter 0 for the player or 1 for the computer.\")\n",
        "        except ValueError:\n",
        "            print(\"Invalid input. Please enter 0 or 1 for the player's or computer's turn.\")\n",
        "\n",
        "    return sticks, max_pick, player_turn\n",
        "\n",
        "# Rest of the code remains the same\n",
        "\n",
        "def player_pick(sticks, max_pick):\n",
        "    while True:\n",
        "        num = int(input(f\"Enter the number of sticks to pick (1-{max_pick}): \"))\n",
        "        if 1 <= num <= max_pick and num <= sticks:\n",
        "            return num\n",
        "        else:\n",
        "            print(f\"Invalid input. Please pick 1-{max_pick} sticks and no more than remaining sticks ({sticks}).\")\n",
        "\n",
        "def computer_pick(sticks, max_pick):\n",
        "    num = random.randint(1, max_pick)\n",
        "    if num > sticks:\n",
        "        num = sticks\n",
        "    return num\n",
        "\n",
        "def display_sticks(n):\n",
        "    print(\"o  \" * n)\n",
        "    print(\"|  \" * n)\n",
        "\n",
        "def main():\n",
        "    print(\"Welcome to the Game of Sticks!\")\n",
        "    while True:\n",
        "        sticks, max_pick, player_turn = initialize_game()\n",
        "\n",
        "        while sticks > 0:\n",
        "            display_sticks(sticks)  # Display remaining sticks\n",
        "            print(f\"Remaining sticks: {sticks}\")\n",
        "\n",
        "            if player_turn == 0:\n",
        "                num = player_pick(sticks, max_pick)\n",
        "            else:\n",
        "                num = computer_pick(sticks, max_pick)\n",
        "                print(f\"Computer picks {num} sticks.\")\n",
        "\n",
        "            sticks -= num\n",
        "            player_turn = 1 - player_turn\n",
        "\n",
        "        display_sticks(sticks)  # Display remaining sticks\n",
        "        print(f\"Remaining sticks: {sticks}\")\n",
        "\n",
        "        if player_turn == 0:\n",
        "            print(\"Congratulations! You win!\")\n",
        "        else:\n",
        "            print(\"Computer wins!\")\n",
        "\n",
        "        play_again = input(\"Play again? (yes/no): \")\n",
        "        if play_again.lower() != 'yes':\n",
        "            break\n",
        "\n",
        "if __name__ == \"__main__\":\n",
        "    main()\n"
      ],
      "metadata": {
        "colab": {
          "base_uri": "https://localhost:8080/",
          "height": 373
        },
        "id": "nDFuXxs7wdX7",
        "outputId": "f0f33938-f8d2-49d5-a27d-542b289361a9"
      },
      "execution_count": 5,
      "outputs": [
        {
          "output_type": "stream",
          "name": "stdout",
          "text": [
            "Welcome to the Game of Sticks!\n"
          ]
        },
        {
          "output_type": "error",
          "ename": "KeyboardInterrupt",
          "evalue": "ignored",
          "traceback": [
            "\u001b[0;31m---------------------------------------------------------------------------\u001b[0m",
            "\u001b[0;31mKeyboardInterrupt\u001b[0m                         Traceback (most recent call last)",
            "\u001b[0;32m<ipython-input-5-7fe05a192bde>\u001b[0m in \u001b[0;36m<cell line: 86>\u001b[0;34m()\u001b[0m\n\u001b[1;32m     85\u001b[0m \u001b[0;34m\u001b[0m\u001b[0m\n\u001b[1;32m     86\u001b[0m \u001b[0;32mif\u001b[0m \u001b[0m__name__\u001b[0m \u001b[0;34m==\u001b[0m \u001b[0;34m\"__main__\"\u001b[0m\u001b[0;34m:\u001b[0m\u001b[0;34m\u001b[0m\u001b[0;34m\u001b[0m\u001b[0m\n\u001b[0;32m---> 87\u001b[0;31m     \u001b[0mmain\u001b[0m\u001b[0;34m(\u001b[0m\u001b[0;34m)\u001b[0m\u001b[0;34m\u001b[0m\u001b[0;34m\u001b[0m\u001b[0m\n\u001b[0m",
            "\u001b[0;32m<ipython-input-5-7fe05a192bde>\u001b[0m in \u001b[0;36mmain\u001b[0;34m()\u001b[0m\n\u001b[1;32m     57\u001b[0m     \u001b[0mprint\u001b[0m\u001b[0;34m(\u001b[0m\u001b[0;34m\"Welcome to the Game of Sticks!\"\u001b[0m\u001b[0;34m)\u001b[0m\u001b[0;34m\u001b[0m\u001b[0;34m\u001b[0m\u001b[0m\n\u001b[1;32m     58\u001b[0m     \u001b[0;32mwhile\u001b[0m \u001b[0;32mTrue\u001b[0m\u001b[0;34m:\u001b[0m\u001b[0;34m\u001b[0m\u001b[0;34m\u001b[0m\u001b[0m\n\u001b[0;32m---> 59\u001b[0;31m         \u001b[0msticks\u001b[0m\u001b[0;34m,\u001b[0m \u001b[0mmax_pick\u001b[0m\u001b[0;34m,\u001b[0m \u001b[0mplayer_turn\u001b[0m \u001b[0;34m=\u001b[0m \u001b[0minitialize_game\u001b[0m\u001b[0;34m(\u001b[0m\u001b[0;34m)\u001b[0m\u001b[0;34m\u001b[0m\u001b[0;34m\u001b[0m\u001b[0m\n\u001b[0m\u001b[1;32m     60\u001b[0m \u001b[0;34m\u001b[0m\u001b[0m\n\u001b[1;32m     61\u001b[0m         \u001b[0;32mwhile\u001b[0m \u001b[0msticks\u001b[0m \u001b[0;34m>\u001b[0m \u001b[0;36m0\u001b[0m\u001b[0;34m:\u001b[0m\u001b[0;34m\u001b[0m\u001b[0;34m\u001b[0m\u001b[0m\n",
            "\u001b[0;32m<ipython-input-5-7fe05a192bde>\u001b[0m in \u001b[0;36minitialize_game\u001b[0;34m()\u001b[0m\n\u001b[1;32m      4\u001b[0m     \u001b[0;32mwhile\u001b[0m \u001b[0;32mTrue\u001b[0m\u001b[0;34m:\u001b[0m\u001b[0;34m\u001b[0m\u001b[0;34m\u001b[0m\u001b[0m\n\u001b[1;32m      5\u001b[0m         \u001b[0;32mtry\u001b[0m\u001b[0;34m:\u001b[0m\u001b[0;34m\u001b[0m\u001b[0;34m\u001b[0m\u001b[0m\n\u001b[0;32m----> 6\u001b[0;31m             \u001b[0msticks\u001b[0m \u001b[0;34m=\u001b[0m \u001b[0mint\u001b[0m\u001b[0;34m(\u001b[0m\u001b[0minput\u001b[0m\u001b[0;34m(\u001b[0m\u001b[0;34m\"Enter the number of sticks (10-60): \"\u001b[0m\u001b[0;34m)\u001b[0m\u001b[0;34m)\u001b[0m\u001b[0;34m\u001b[0m\u001b[0;34m\u001b[0m\u001b[0m\n\u001b[0m\u001b[1;32m      7\u001b[0m             \u001b[0;32mif\u001b[0m \u001b[0;36m10\u001b[0m \u001b[0;34m<=\u001b[0m \u001b[0msticks\u001b[0m \u001b[0;34m<=\u001b[0m \u001b[0;36m60\u001b[0m\u001b[0;34m:\u001b[0m\u001b[0;34m\u001b[0m\u001b[0;34m\u001b[0m\u001b[0m\n\u001b[1;32m      8\u001b[0m                 \u001b[0;32mbreak\u001b[0m\u001b[0;34m\u001b[0m\u001b[0;34m\u001b[0m\u001b[0m\n",
            "\u001b[0;32m/usr/local/lib/python3.10/dist-packages/ipykernel/kernelbase.py\u001b[0m in \u001b[0;36mraw_input\u001b[0;34m(self, prompt)\u001b[0m\n\u001b[1;32m    849\u001b[0m                 \u001b[0;34m\"raw_input was called, but this frontend does not support input requests.\"\u001b[0m\u001b[0;34m\u001b[0m\u001b[0;34m\u001b[0m\u001b[0m\n\u001b[1;32m    850\u001b[0m             )\n\u001b[0;32m--> 851\u001b[0;31m         return self._input_request(str(prompt),\n\u001b[0m\u001b[1;32m    852\u001b[0m             \u001b[0mself\u001b[0m\u001b[0;34m.\u001b[0m\u001b[0m_parent_ident\u001b[0m\u001b[0;34m,\u001b[0m\u001b[0;34m\u001b[0m\u001b[0;34m\u001b[0m\u001b[0m\n\u001b[1;32m    853\u001b[0m             \u001b[0mself\u001b[0m\u001b[0;34m.\u001b[0m\u001b[0m_parent_header\u001b[0m\u001b[0;34m,\u001b[0m\u001b[0;34m\u001b[0m\u001b[0;34m\u001b[0m\u001b[0m\n",
            "\u001b[0;32m/usr/local/lib/python3.10/dist-packages/ipykernel/kernelbase.py\u001b[0m in \u001b[0;36m_input_request\u001b[0;34m(self, prompt, ident, parent, password)\u001b[0m\n\u001b[1;32m    893\u001b[0m             \u001b[0;32mexcept\u001b[0m \u001b[0mKeyboardInterrupt\u001b[0m\u001b[0;34m:\u001b[0m\u001b[0;34m\u001b[0m\u001b[0;34m\u001b[0m\u001b[0m\n\u001b[1;32m    894\u001b[0m                 \u001b[0;31m# re-raise KeyboardInterrupt, to truncate traceback\u001b[0m\u001b[0;34m\u001b[0m\u001b[0;34m\u001b[0m\u001b[0m\n\u001b[0;32m--> 895\u001b[0;31m                 \u001b[0;32mraise\u001b[0m \u001b[0mKeyboardInterrupt\u001b[0m\u001b[0;34m(\u001b[0m\u001b[0;34m\"Interrupted by user\"\u001b[0m\u001b[0;34m)\u001b[0m \u001b[0;32mfrom\u001b[0m \u001b[0;32mNone\u001b[0m\u001b[0;34m\u001b[0m\u001b[0;34m\u001b[0m\u001b[0m\n\u001b[0m\u001b[1;32m    896\u001b[0m             \u001b[0;32mexcept\u001b[0m \u001b[0mException\u001b[0m \u001b[0;32mas\u001b[0m \u001b[0me\u001b[0m\u001b[0;34m:\u001b[0m\u001b[0;34m\u001b[0m\u001b[0;34m\u001b[0m\u001b[0m\n\u001b[1;32m    897\u001b[0m                 \u001b[0mself\u001b[0m\u001b[0;34m.\u001b[0m\u001b[0mlog\u001b[0m\u001b[0;34m.\u001b[0m\u001b[0mwarning\u001b[0m\u001b[0;34m(\u001b[0m\u001b[0;34m\"Invalid Message:\"\u001b[0m\u001b[0;34m,\u001b[0m \u001b[0mexc_info\u001b[0m\u001b[0;34m=\u001b[0m\u001b[0;32mTrue\u001b[0m\u001b[0;34m)\u001b[0m\u001b[0;34m\u001b[0m\u001b[0;34m\u001b[0m\u001b[0m\n",
            "\u001b[0;31mKeyboardInterrupt\u001b[0m: Interrupted by user"
          ]
        }
      ]
    },
    {
      "cell_type": "markdown",
      "source": [
        "Git-Hub Upload"
      ],
      "metadata": {
        "id": "v9L8QklqyoKZ"
      }
    },
    {
      "cell_type": "code",
      "source": [
        "!git --version\n"
      ],
      "metadata": {
        "colab": {
          "base_uri": "https://localhost:8080/"
        },
        "id": "Q7MS2whmyu9Q",
        "outputId": "40c8f48e-7745-43ae-ed0f-02da9ad3b0d7"
      },
      "execution_count": 6,
      "outputs": [
        {
          "output_type": "stream",
          "name": "stdout",
          "text": [
            "git version 2.34.1\n"
          ]
        }
      ]
    },
    {
      "cell_type": "code",
      "source": [
        "!apt-get install git\n"
      ],
      "metadata": {
        "colab": {
          "base_uri": "https://localhost:8080/"
        },
        "id": "Yk8EGz3t0A6c",
        "outputId": "7840d387-533a-488a-f628-0b97eddabb30"
      },
      "execution_count": 13,
      "outputs": [
        {
          "output_type": "stream",
          "name": "stdout",
          "text": [
            "Reading package lists... Done\n",
            "Building dependency tree... Done\n",
            "Reading state information... Done\n",
            "git is already the newest version (1:2.34.1-1ubuntu1.10).\n",
            "0 upgraded, 0 newly installed, 0 to remove and 18 not upgraded.\n"
          ]
        }
      ]
    },
    {
      "cell_type": "code",
      "source": [
        "!git config --global user.name \"Jonahcabaye\"\n",
        "!git config --global user.email \"jonah.cabaye@iae-aix.com\""
      ],
      "metadata": {
        "id": "VuyfOkeR1V49"
      },
      "execution_count": 19,
      "outputs": []
    },
    {
      "cell_type": "code",
      "source": [
        "!git clone <https://github.com/Jonahcabaye/Python_IMMIT/blob/main/Game_of_sticks>"
      ],
      "metadata": {
        "colab": {
          "base_uri": "https://localhost:8080/"
        },
        "id": "qbk74iX3yww3",
        "outputId": "3d959d5b-7cf7-4a9c-d531-ddbd141b2c49"
      },
      "execution_count": 21,
      "outputs": [
        {
          "output_type": "stream",
          "name": "stdout",
          "text": [
            "/bin/bash: -c: line 1: syntax error near unexpected token `newline'\n",
            "/bin/bash: -c: line 1: `git clone <https://github.com/Jonahcabaye/Python_IMMIT/blob/main/Game_of_sticks>'\n"
          ]
        }
      ]
    },
    {
      "cell_type": "code",
      "source": [
        "%cd <Python_IMMIT>"
      ],
      "metadata": {
        "colab": {
          "base_uri": "https://localhost:8080/"
        },
        "id": "7Z8xmu-x1GYh",
        "outputId": "a1a8566a-0cb4-45dc-b825-f4bb6f039aef"
      },
      "execution_count": 26,
      "outputs": [
        {
          "output_type": "stream",
          "name": "stdout",
          "text": [
            "[Errno 2] No such file or directory: '<Python_IMMIT>'\n",
            "/content\n"
          ]
        }
      ]
    },
    {
      "cell_type": "code",
      "source": [
        "!ls /content\n"
      ],
      "metadata": {
        "colab": {
          "base_uri": "https://localhost:8080/"
        },
        "id": "rOkaJ77R2McJ",
        "outputId": "06d42496-f38b-4439-9364-fa2a6fc51173"
      },
      "execution_count": 29,
      "outputs": [
        {
          "output_type": "stream",
          "name": "stdout",
          "text": [
            "sample_data\n"
          ]
        }
      ]
    },
    {
      "cell_type": "code",
      "source": [
        "%cd sample_data\n"
      ],
      "metadata": {
        "colab": {
          "base_uri": "https://localhost:8080/"
        },
        "id": "vXkB42zu2Uws",
        "outputId": "c4b6c881-9afe-400d-e06a-b92227895f15"
      },
      "execution_count": 31,
      "outputs": [
        {
          "output_type": "stream",
          "name": "stdout",
          "text": [
            "/content/sample_data\n"
          ]
        }
      ]
    },
    {
      "cell_type": "code",
      "source": [
        "!ls /content\n"
      ],
      "metadata": {
        "colab": {
          "base_uri": "https://localhost:8080/"
        },
        "id": "nr5sIVsj2qPi",
        "outputId": "edc04a8d-4aaa-4f1e-f37d-112339ef91e8"
      },
      "execution_count": 34,
      "outputs": [
        {
          "output_type": "stream",
          "name": "stdout",
          "text": [
            "sample_data\n"
          ]
        }
      ]
    }
  ]
}